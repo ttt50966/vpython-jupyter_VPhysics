{
 "cells": [
  {
   "cell_type": "markdown",
   "id": "3ffff4a5-2f46-480c-ba19-9d9f5bba49d6",
   "metadata": {},
   "source": [
    "# VP1: Simple Start for Vpython, Projectile [basic of Python, while, if, and nest structure]"
   ]
  },
  {
   "cell_type": "markdown",
   "id": "c7d1e02a",
   "metadata": {},
   "source": [
    "## Installation\n",
    "Follow the steps (1) in “安裝” at http://tcjd71.wixsite.com/vpython/install to install python3 + vpython7, or\n",
    "(2) anaconda + vpython (https://vpython.org/presentation2018/install.html)\n",
    "Video: https://www.youtube.com/playlist?list=PLxowpOHFnGyM_fBj8r3JE9sZL_NlTEMJR"
   ]
  },
  {
   "cell_type": "markdown",
   "id": "cf413ace",
   "metadata": {},
   "source": [
    "## I. Free Fall:\n",
    "Type (typing instead of “cut-and-pasting” allows you to know python faster) and then run the codes. Holding\n",
    "the right mouse button and moving the mouse can change view angle. Holding both buttons and moving the\n",
    "mouse can zoom in or out."
   ]
  },
  {
   "cell_type": "code",
   "execution_count": 1,
   "id": "bec6ebcc",
   "metadata": {},
   "outputs": [],
   "source": [
    "from IPython.display import clear_output\n",
    "import time\n",
    "clear_output()"
   ]
  },
  {
   "cell_type": "code",
   "execution_count": 2,
   "id": "ace7d2ff-88cd-40f8-8ebc-1f7c2bcdbf29",
   "metadata": {},
   "outputs": [],
   "source": [
    "from vpython import *\n",
    "g=9.8 # g = 9.8 m/s^2\n",
    "size = 0.25 # ball radius = 0.25 m\n",
    "height = 15.0 # ball center initial height = 15 m\n",
    "scene = canvas(width=800, height=800, center =vec(0,height/2,0), background=vec(0.5,0.5,0)) # open a window\n",
    "floor = box(length=30, height=0.01, width=10, color=color.blue) # the floor\n",
    "ball = sphere(radius = size, color=color.red, make_trail = True, trail_radius = 0.05) # the ball\n",
    "msg =text(text = 'Free Fall', pos = vec(-10, 10, 0))\n",
    "clear_output()"
   ]
  },
  {
   "cell_type": "code",
   "execution_count": 3,
   "id": "aa39b17d-f465-4aaa-b153-bdca7d7927bb",
   "metadata": {},
   "outputs": [
    {
     "name": "stdout",
     "output_type": "stream",
     "text": [
      "-17.012800000000116\n"
     ]
    }
   ],
   "source": [
    "ball.pos = vec( 0, height, 0) # ball center initial position\n",
    "ball.v = vec(0, 0 , 0) # ball initial velocity\n",
    "dt = 0.001 # time step\n",
    "while ball.pos.y >= size: # until the ball hit the ground\n",
    "    rate(1000) # run 1000 times per real second\n",
    "    ball.pos = ball.pos + ball.v*dt\n",
    "    ball.v.y = ball.v.y - g*dt\n",
    "msg.visible = False\n",
    "msg =text(text = str(ball.v.y), pos = vec(-10, 10, 0))\n",
    "print(ball.v.y)"
   ]
  },
  {
   "cell_type": "markdown",
   "id": "e3d78d99",
   "metadata": {},
   "source": [
    "## II. Arrow"
   ]
  },
  {
   "cell_type": "code",
   "execution_count": 4,
   "id": "46990b4c",
   "metadata": {},
   "outputs": [],
   "source": [
    "from vpython import *\n",
    "scene = canvas(width=800, height=800, background=vec(0.5,0.5,0)) # open a window\n",
    "a1 = arrow(color = color.green, shaftwidth = 0.05)\n",
    "b1 = arrow(color = color.blue, shaftwidth = 0.05)\n",
    "a1.pos = vec(1, 1, 0)\n",
    "a1.axis = vec(1, -1, 0)\n",
    "b1.pos = a1.pos + a1.axis\n",
    "b1.axis = vec(2, 1, 0)\n",
    "c1 = arrow(color = color.yellow, shaftwidth=0.05)\n",
    "c1.pos = a1.pos\n",
    "c1.axis = a1.axis + b1.axis\n",
    "clear_output()"
   ]
  },
  {
   "cell_type": "markdown",
   "id": "48f90e7c",
   "metadata": {},
   "source": [
    "## III. Bouncing Ball"
   ]
  },
  {
   "cell_type": "code",
   "execution_count": 5,
   "id": "39ef1564",
   "metadata": {},
   "outputs": [],
   "source": [
    "from vpython import *\n",
    "g=9.8 # g = 9.8 m/s^2\n",
    "size = 0.25 # ball radius = 0.25 m\n",
    "scene = canvas(center = vec(0,5,0), width=600, background=vec(0.5,0.5,0))\n",
    "floor = box(length=30, height=0.01, width=4, color=color.blue)\n",
    "ball = sphere(radius = size, color=color.red, make_trail=True, trail_radius = size/3)\n",
    "ball.pos = vec( -15.0, 10.0, 0.0) # ball initial position\n",
    "ball.v = vec(2.0, 0.0 , 0.0) # ball initial velocity\n",
    "dt = 0.001\n",
    "while ball.pos.x < 15.0: # simulate until x=15.0m\n",
    "    rate(1000)\n",
    "    ball.pos += ball.v*dt\n",
    "    ball.v.y += - g*dt\n",
    "    if ball.pos.y <= size and ball.v.y < 0: # new: check if ball hits the ground\n",
    "        ball.v.y = - ball.v.y # if so, reverse y component of velocity\n",
    "time.sleep(3)\n",
    "clear_output()        "
   ]
  },
  {
   "cell_type": "markdown",
   "id": "f9351a58",
   "metadata": {},
   "source": [
    "## IV. Graph"
   ]
  },
  {
   "cell_type": "code",
   "execution_count": 6,
   "id": "40637f96",
   "metadata": {},
   "outputs": [],
   "source": [
    "from vpython import *\n",
    "scene1 = canvas(width = 200, align = 'left', background = vec(0, 0.5, 0.5))\n",
    "scene2 = canvas(width = 300, height = 300, align = 'left', background = vec(0.5, 0.5, 0))\n",
    "box(canvas = scene1)\n",
    "sphere(canvas = scene2)\n",
    "oscillation = graph(width = 450, align = 'right')\n",
    "funct1 = gcurve(graph = oscillation, color=color.blue, width=4)\n",
    "funct2 = gvbars(graph = oscillation, delta=0.4, color=color.red)\n",
    "funct3 = gdots(graph = oscillation, color=color.orange, size=3)\n",
    "t = 0\n",
    "while t < 80:\n",
    "    rate(50)\n",
    "    t = t+1\n",
    "    funct1.plot( pos=(t, 5.0+5.0*cos(-0.2*t)*exp(0.015*t)) )\n",
    "    funct2.plot( pos=(t, 2.0+5.0*cos(-0.1*t)*exp(0.015*t)) )\n",
    "    funct3.plot( pos=(t, 5.0*cos(-0.03*t)*exp(0.015*t)) )\n",
    "\n",
    "time.sleep(3)\n",
    "clear_output() "
   ]
  },
  {
   "cell_type": "markdown",
   "id": "d69f6678",
   "metadata": {},
   "source": [
    "## V. Air_drag"
   ]
  },
  {
   "cell_type": "code",
   "execution_count": 7,
   "id": "818f5b01",
   "metadata": {},
   "outputs": [],
   "source": [
    "from vpython import *\n",
    "g=9.8 # g = 9.8 m/s^2\n",
    "size = 0.25 # ball radius = 0.25 m\n",
    "height = 15.0 # ball center initial height = 15 m\n",
    "C_drag = 1.2\n",
    "scene = canvas(width=600, height=600, center =vec(0,height/2,0), background=vec(0.5,0.5,0))\n",
    "floor = box(length=30, height=0.01, width=10, color=color.blue)\n",
    "ball = sphere(radius = size, color=color.red, make_trail = True)\n",
    "ball.pos = vec(-15, size, 0)\n",
    "ball.v = vec(16, 16, 0) # ball initial velocity\n",
    "dt = 0.001 # time step\n",
    "while ball.pos.y >= size: # until the ball hit the ground\n",
    "    rate(1000) # run 1000 times per real second\n",
    "    ball.v += vec(0, -g, 0) * dt - C_drag*ball.v*dt\n",
    "    ball.pos += ball.v*dt\n",
    "\n",
    "    \n",
    "text(text = 'final speed = ' + str(ball.v.mag), pos = vec(-10, 15, 0),color=color.green)\n",
    "\n",
    "time.sleep(3)\n",
    "clear_output() "
   ]
  },
  {
   "cell_type": "markdown",
   "id": "bd704556",
   "metadata": {},
   "source": [
    "## VI. Homework"
   ]
  },
  {
   "cell_type": "code",
   "execution_count": null,
   "id": "2b8c68ad",
   "metadata": {},
   "outputs": [
    {
     "data": {
      "text/html": [
       "<div id=\"glowscript\" class=\"glowscript\"></div>"
      ],
      "text/plain": [
       "<IPython.core.display.HTML object>"
      ]
     },
     "metadata": {},
     "output_type": "display_data"
    },
    {
     "data": {
      "application/javascript": [
       "if (typeof Jupyter !== \"undefined\") { window.__context = { glowscript_container: $(\"#glowscript\").removeAttr(\"id\")};}else{ element.textContent = ' ';}"
      ],
      "text/plain": [
       "<IPython.core.display.Javascript object>"
      ]
     },
     "metadata": {},
     "output_type": "display_data"
    }
   ],
   "source": []
  },
  {
   "cell_type": "code",
   "execution_count": null,
   "id": "0c915af5",
   "metadata": {},
   "outputs": [],
   "source": []
  }
 ],
 "metadata": {
  "kernelspec": {
   "display_name": "Python 3",
   "language": "python",
   "name": "python3"
  },
  "language_info": {
   "codemirror_mode": {
    "name": "ipython",
    "version": 3
   },
   "file_extension": ".py",
   "mimetype": "text/x-python",
   "name": "python",
   "nbconvert_exporter": "python",
   "pygments_lexer": "ipython3",
   "version": "3.7.10"
  }
 },
 "nbformat": 4,
 "nbformat_minor": 5
}
