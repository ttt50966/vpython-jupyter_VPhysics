{
 "cells": [
  {
   "cell_type": "markdown",
   "id": "346165aa",
   "metadata": {},
   "source": [
    "# VP2: SHM, Collision, Pendulum, and Newton Cradle [tuple, list, for, function]"
   ]
  },
  {
   "cell_type": "markdown",
   "id": "6f5dba61",
   "metadata": {},
   "source": [
    "## I. List: (See the right figure)\n",
    "Variable a is assigned to a ‘list’, which is an ‘ordered collection of\n",
    "objects’. The objects can be integers, floats, strings, lists, or any other\n",
    "objects. In the example here, the 0th element of a is integer 1, the 1st\n",
    "is integer 2, the 2nd is ‘x’, and so forth. (Notice that in python, the order\n",
    "starts at 0.) More importantly, the elements of list can be mixed of any\n",
    "different types."
   ]
  },
  {
   "cell_type": "code",
   "execution_count": 1,
   "id": "10753946",
   "metadata": {},
   "outputs": [
    {
     "data": {
      "text/plain": [
       "2"
      ]
     },
     "execution_count": 1,
     "metadata": {},
     "output_type": "execute_result"
    }
   ],
   "source": [
    "a = [1, 2, 'x', 4, 5]\n",
    "a[1]"
   ]
  },
  {
   "cell_type": "code",
   "execution_count": 2,
   "id": "93b98854",
   "metadata": {},
   "outputs": [
    {
     "data": {
      "text/plain": [
       "'x'"
      ]
     },
     "execution_count": 2,
     "metadata": {},
     "output_type": "execute_result"
    }
   ],
   "source": [
    "a[2]"
   ]
  },
  {
   "cell_type": "code",
   "execution_count": 3,
   "id": "89c50614",
   "metadata": {},
   "outputs": [
    {
     "data": {
      "text/plain": [
       "1"
      ]
     },
     "execution_count": 3,
     "metadata": {},
     "output_type": "execute_result"
    }
   ],
   "source": [
    "a[0]"
   ]
  },
  {
   "cell_type": "code",
   "execution_count": 4,
   "id": "6e40790e",
   "metadata": {},
   "outputs": [
    {
     "data": {
      "text/plain": [
       "5"
      ]
     },
     "execution_count": 4,
     "metadata": {},
     "output_type": "execute_result"
    }
   ],
   "source": [
    "a[-1]"
   ]
  },
  {
   "cell_type": "code",
   "execution_count": 5,
   "id": "b2268f4c",
   "metadata": {},
   "outputs": [
    {
     "data": {
      "text/plain": [
       "[2, 'x']"
      ]
     },
     "execution_count": 5,
     "metadata": {},
     "output_type": "execute_result"
    }
   ],
   "source": [
    "a[1:3]"
   ]
  },
  {
   "cell_type": "code",
   "execution_count": 6,
   "id": "275aaa4d",
   "metadata": {},
   "outputs": [
    {
     "data": {
      "text/plain": [
       "[1, 2, 'x', 4, 5]"
      ]
     },
     "execution_count": 6,
     "metadata": {},
     "output_type": "execute_result"
    }
   ],
   "source": [
    "b = a\n",
    "b"
   ]
  },
  {
   "cell_type": "code",
   "execution_count": 7,
   "id": "b8cedd8e",
   "metadata": {},
   "outputs": [
    {
     "data": {
      "text/plain": [
       "[1, 99, 'x', 4, 5]"
      ]
     },
     "execution_count": 7,
     "metadata": {},
     "output_type": "execute_result"
    }
   ],
   "source": [
    "a[1] = 99\n",
    "a"
   ]
  },
  {
   "cell_type": "code",
   "execution_count": 8,
   "id": "b42ff8bf",
   "metadata": {},
   "outputs": [
    {
     "data": {
      "text/plain": [
       "[1, 99, 'x', 4, 5]"
      ]
     },
     "execution_count": 8,
     "metadata": {},
     "output_type": "execute_result"
    }
   ],
   "source": [
    "b"
   ]
  },
  {
   "cell_type": "code",
   "execution_count": 9,
   "id": "9315436a",
   "metadata": {},
   "outputs": [],
   "source": [
    "a[2:5] = [6, '𝛾', 8]"
   ]
  },
  {
   "cell_type": "code",
   "execution_count": 10,
   "id": "b54e1b26",
   "metadata": {},
   "outputs": [
    {
     "data": {
      "text/plain": [
       "[1, 99, 6, '𝛾', 8]"
      ]
     },
     "execution_count": 10,
     "metadata": {},
     "output_type": "execute_result"
    }
   ],
   "source": [
    "a"
   ]
  },
  {
   "cell_type": "code",
   "execution_count": 11,
   "id": "85417a31",
   "metadata": {},
   "outputs": [
    {
     "name": "stdout",
     "output_type": "stream",
     "text": [
      "1\n",
      "99\n",
      "6\n",
      "𝛾\n",
      "8\n"
     ]
    }
   ],
   "source": [
    "for i in a:\n",
    "    print(i)"
   ]
  },
  {
   "cell_type": "code",
   "execution_count": 12,
   "id": "2e25caca",
   "metadata": {},
   "outputs": [
    {
     "data": {
      "text/plain": [
       "[1, 99, 6, '𝛾', 8, 10]"
      ]
     },
     "execution_count": 12,
     "metadata": {},
     "output_type": "execute_result"
    }
   ],
   "source": [
    "a.append(10)\n",
    "a"
   ]
  },
  {
   "cell_type": "markdown",
   "id": "3572ef57",
   "metadata": {},
   "source": [
    "## II. Simple Harmonic Motion:"
   ]
  },
  {
   "cell_type": "code",
   "execution_count": 13,
   "id": "1fd5d9c0",
   "metadata": {},
   "outputs": [],
   "source": [
    "from vpython import *\n",
    "from IPython.display import clear_output\n",
    "import time\n",
    "g = 9.8\n",
    "size, m = 0.05, 0.2\n",
    "L, k = 0.5, 15\n",
    "scene = canvas(width=500, height=500, center=vec(0, -0.2, 0), background=vec(0.5,0.5,0))\n",
    "ceiling = box(length=0.8, height=0.005, width=0.8, color=color.blue)\n",
    "ball = sphere(radius = size, color=color.red)\n",
    "spring = helix(radius=0.02, thickness =0.01) # default pos = vec(0, 0, 0)\n",
    "ball.v = vec(0, 0, 0)\n",
    "ball.pos = vec(0, -L, 0)\n",
    "t = 0\n",
    "dt = 0.001\n",
    "while True:\n",
    "    rate(1000)\n",
    "    spring.axis = ball.pos - spring.pos # new: extended from spring endpoint to ball\n",
    "    spring_force = - k * (mag(spring.axis) - L) * spring.axis.norm() # to get spring force vector\n",
    "    ball.a = vector(0, - g, 0) + spring_force / m # ball acceleration = - g in y + spring force /m\n",
    "    ball.v += ball.a*dt\n",
    "    ball.pos += ball.v*dt\n",
    "    t+=dt\n",
    "    if t > 10:\n",
    "        break\n",
    "time.sleep(5)\n",
    "clear_output()"
   ]
  },
  {
   "cell_type": "markdown",
   "id": "35ac1afb",
   "metadata": {},
   "source": [
    "## III. Multiballs:"
   ]
  },
  {
   "cell_type": "code",
   "execution_count": 15,
   "id": "cc5f81fa",
   "metadata": {},
   "outputs": [],
   "source": [
    "from vpython import *\n",
    "g = 9.8\n",
    "size, m = 0.05, 0.2\n",
    "L, k = 0.5, [15, 12, 17]\n",
    "v = [1, 2, 2.2]\n",
    "d = [-0.06, 0, -0.1]\n",
    "\n",
    "scene = canvas(width=400, height=400, center =vec(0.4, 0.2, 0), align = 'left', background=vec(0.5,0.5,0))\n",
    "floor = box(pos = vec(0.4, 0, 0), length=0.8, height=0.005, width=0.8, color=color.blue)\n",
    "wall = box(pos= vec(0, 0.05, 0), length = 0.01, height = 0.1, width =0.8)\n",
    "balls = []\n",
    "for i in range(3):\n",
    "    ball = sphere(pos = vec(L+d[i], size, (i-1)*3*size), radius = size, color=color.red)\n",
    "    ball.v = vec(v[i], 0, 0)\n",
    "    balls.append(ball)\n",
    "springs =[]\n",
    "for i in range(3):\n",
    "    spring = helix(pos = vec(0, size, (i-1)*3*size), radius=0.02, thickness =0.01)\n",
    "    spring.axis = balls[i].pos-spring.pos\n",
    "    spring.k = k[i]\n",
    "    springs.append(spring)\n",
    "\n",
    "\"\"\"\n",
    "for i in range(3):\n",
    "    code added here below in order to controll items\n",
    "\"\"\"\n",
    "\n",
    "# if you want to removed the scence in this cell, you can use the command below.    \n",
    "#clear_output()"
   ]
  },
  {
   "cell_type": "markdown",
   "id": "69e29628",
   "metadata": {},
   "source": [
    "## IV. Collision"
   ]
  },
  {
   "cell_type": "code",
   "execution_count": 16,
   "id": "3dab6c9f",
   "metadata": {},
   "outputs": [],
   "source": [
    "from vpython import *\n",
    "size = [0.05, 0.04] #ball radius\n",
    "mass = [0.2, 0.4] #ball mass\n",
    "colors = [color.yellow, color.green] #ball color\n",
    "position = [vec(0, 0, 0), vec(0.2,-0.35, 0)]#ball initial position\n",
    "velocity = [vec(0, 0, 0), vec(-0.2, 0.30, 0)] #ball initial velocity\n",
    "scene = canvas(width = 800, height =800, center=vec(0, -0.2, 0), background=vec(0.5,0.5,0)) # open window\n",
    "ball_reference = sphere (pos = vec(0,0,0), radius = 0.02, color=color.red)\n",
    "def af_col_v(m1, m2, v1, v2, x1, x2): # function after collision velocity\n",
    "    v1_prime = v1 + 2*(m2/(m1+m2))*(x1-x2) * dot (v2-v1, x1-x2) / dot (x1-x2, x1-x2)\n",
    "    v2_prime = v2 + 2*(m1/(m1+m2))*(x2-x1) * dot (v1-v2, x2-x1) / dot (x2-x1, x2-x1)\n",
    "    return (v1_prime, v2_prime)\n",
    "balls =[]\n",
    "for i in [0, 1]:\n",
    "    balls.append(sphere(pos = position[i], radius = size[i], color=colors[i]))\n",
    "    balls[i].v = velocity[i]\n",
    "    balls[i].m = mass[i]\n",
    "t = 0    \n",
    "dt = 0.001\n",
    "while True:\n",
    "    rate(1000)\n",
    "    for ball in balls:\n",
    "        ball.pos += ball.v*dt\n",
    "        if (mag(balls[0].pos - balls[1].pos) <= size[0]+size[1] \n",
    "            and dot(balls[0].pos-balls[1].pos, balls[0].v-balls[1].v) <= 0) :\n",
    "            (balls[0].v, balls[1].v) = af_col_v (balls[0].m, balls[1].m, balls[0].v, balls[1].v, balls[0].pos, balls[1].pos)\n",
    "    t += dt\n",
    "    if t > 7:\n",
    "        break\n",
    "time.sleep(5)\n",
    "clear_output()"
   ]
  },
  {
   "cell_type": "markdown",
   "id": "12e80350",
   "metadata": {},
   "source": [
    "## V. Pendulum"
   ]
  },
  {
   "cell_type": "code",
   "execution_count": 17,
   "id": "1e136dce",
   "metadata": {},
   "outputs": [],
   "source": [
    "from vpython import *\n",
    "g = 9.8\n",
    "size, m = 0.02, 0.5\n",
    "L, k = 0.5, 15000\n",
    "scene = canvas(width=500, height=500, center=vec(0, -0.2, 0), background=vec(0.5,0.5,0))\n",
    "ceiling = box(length=0.8, height=0.005, width=0.8, color=color.blue)\n",
    "ball = sphere(radius = size, color=color.red)\n",
    "spring = cylinder(radius=0.005) # default pos = vec(0, 0, 0)\n",
    "ball.v = vec(0.6, 0, 0)\n",
    "ball.pos = vec(0, -L - m*g/k, 0)\n",
    "dt = 0.001\n",
    "t = 0\n",
    "while True:\n",
    "    rate(1000)\n",
    "    t += dt\n",
    "    spring.axis = ball.pos - spring.pos #spring extended from endpoint to ball\n",
    "    spring_force = - k * (mag(spring.axis) - L) * spring.axis.norm() # to get spring force vector\n",
    "    ball.a = vector(0, - g, 0) + spring_force / m # ball acceleration = - g in y + spring force /m\n",
    "    ball.v += ball.a*dt\n",
    "    ball.pos += ball.v*dt\n",
    "    if t > 10:\n",
    "        break\n",
    "time.sleep(5)\n",
    "clear_output()"
   ]
  },
  {
   "cell_type": "markdown",
   "id": "e42eecbf",
   "metadata": {},
   "source": [
    "## VI. Homework\n",
    "write a program for Newton’s cradle with **5 balls**. The dimensions of the cradle and the initial conditions, in\n",
    "which all balls are at rest, are shown in the figure below. \n",
    "\n",
    "The mass of each ball is **1 kg**, and the radius of each\n",
    "ball is **0.2 m** and the distance between any two adjacent pivots are **0.4 m**. \n",
    "\n",
    "The program need to have a variable N that indicates how many balls are lifted at the beginning, for example in the figure **N=2**. \n",
    "In the program, also use **dt, k, g = 0.0001, 150000, vector(0,-9.8,0)** for the time step of the simulation, the force constant of the rope, and the gravitation acceleration, respectively. \n",
    "\n",
    "And the simulation is set at rate(5000).\n",
    "\n",
    "Also (1) In one graph, plot versus time both the total of the instant kinetic energies of all balls, and the total\n",
    "of the instant gravitational potential energy of all balls (the potential energy of the balls at the lowest\n",
    "positions are taken to be 0). \n",
    "\n",
    "(2) In a second graph, plot versus time the averaged total kinetic energy over\n",
    "the time period (from the beginning of the simulation till the time of the current plot point) and the averaged\n",
    "total gravitational potential energy."
   ]
  },
  {
   "cell_type": "code",
   "execution_count": 18,
   "id": "a1cfb6b2",
   "metadata": {},
   "outputs": [
    {
     "data": {
      "text/plain": [
       "'\\nAdd you code below.\\n'"
      ]
     },
     "execution_count": 18,
     "metadata": {},
     "output_type": "execute_result"
    }
   ],
   "source": [
    "from vpython import *\n",
    "\n",
    "dt, k, g = 0.0001, 150000, vector(0, -9.8, 0)\n",
    "size, m = 0.2, 1\n",
    "L= 2\n",
    "\n",
    "N = 2\n",
    "\n",
    "\"\"\"\n",
    "Add you code below.\n",
    "\"\"\""
   ]
  },
  {
   "cell_type": "code",
   "execution_count": null,
   "id": "57b063df",
   "metadata": {},
   "outputs": [],
   "source": []
  }
 ],
 "metadata": {
  "kernelspec": {
   "display_name": "Python 3",
   "language": "python",
   "name": "python3"
  },
  "language_info": {
   "codemirror_mode": {
    "name": "ipython",
    "version": 3
   },
   "file_extension": ".py",
   "mimetype": "text/x-python",
   "name": "python",
   "nbconvert_exporter": "python",
   "pygments_lexer": "ipython3",
   "version": "3.7.10"
  }
 },
 "nbformat": 4,
 "nbformat_minor": 5
}
