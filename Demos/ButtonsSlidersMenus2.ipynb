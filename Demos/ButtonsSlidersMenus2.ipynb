{
 "cells": [
  {
   "cell_type": "code",
   "execution_count": null,
   "metadata": {},
   "outputs": [
    {
     "data": {
      "text/html": [
       "<div id=\"glowscript\" class=\"glowscript\"></div>"
      ],
      "text/plain": [
       "<IPython.core.display.HTML object>"
      ]
     },
     "metadata": {},
     "output_type": "display_data"
    },
    {
     "data": {
      "application/javascript": [
       "if (typeof Jupyter !== \"undefined\") { window.__context = { glowscript_container: $(\"#glowscript\").removeAttr(\"id\")};}else{ element.textContent = ' ';}"
      ],
      "text/plain": [
       "<IPython.core.display.Javascript object>"
      ]
     },
     "metadata": {},
     "output_type": "display_data"
    },
    {
     "data": {
      "application/javascript": [
       "if (typeof Jupyter !== \"undefined\") {require.undef(\"nbextensions/vpython_libraries/glow.min\");}else{element.textContent = ' ';}"
      ],
      "text/plain": [
       "<IPython.core.display.Javascript object>"
      ]
     },
     "metadata": {},
     "output_type": "display_data"
    },
    {
     "data": {
      "application/javascript": [
       "if (typeof Jupyter !== \"undefined\") {require.undef(\"nbextensions/vpython_libraries/glowcomm\");}else{element.textContent = ' ';}"
      ],
      "text/plain": [
       "<IPython.core.display.Javascript object>"
      ]
     },
     "metadata": {},
     "output_type": "display_data"
    },
    {
     "data": {
      "application/javascript": [
       "if (typeof Jupyter !== \"undefined\") {require.undef(\"nbextensions/vpython_libraries/jquery-ui.custom.min\");}else{element.textContent = ' ';}"
      ],
      "text/plain": [
       "<IPython.core.display.Javascript object>"
      ]
     },
     "metadata": {},
     "output_type": "display_data"
    },
    {
     "data": {
      "application/javascript": [
       "if (typeof Jupyter !== \"undefined\") {require([\"nbextensions/vpython_libraries/glow.min\"], function(){console.log(\"GLOW LOADED\");});}else{element.textContent = ' ';}"
      ],
      "text/plain": [
       "<IPython.core.display.Javascript object>"
      ]
     },
     "metadata": {},
     "output_type": "display_data"
    },
    {
     "data": {
      "application/javascript": [
       "if (typeof Jupyter !== \"undefined\") {require([\"nbextensions/vpython_libraries/glowcomm\"], function(){console.log(\"GLOWCOMM LOADED\");});}else{element.textContent = ' ';}"
      ],
      "text/plain": [
       "<IPython.core.display.Javascript object>"
      ]
     },
     "metadata": {},
     "output_type": "display_data"
    },
    {
     "data": {
      "application/javascript": [
       "if (typeof Jupyter !== \"undefined\") {require([\"nbextensions/vpython_libraries/jquery-ui.custom.min\"], function(){console.log(\"JQUERY LOADED\");});}else{element.textContent = ' ';}"
      ],
      "text/plain": [
       "<IPython.core.display.Javascript object>"
      ]
     },
     "metadata": {},
     "output_type": "display_data"
    }
   ],
   "source": [
    "from vpython import *\n",
    "scene.width = 350\n",
    "scene.height = 300\n",
    "scene.range = 1.3\n",
    "scene.title = \"Widgets (buttons, etc.)\\n\"\n",
    "\n",
    "running = True\n",
    "\n",
    "def Run(b):\n",
    "    global running\n",
    "    running = not running\n",
    "    if running: b.text = \"Pause\"\n",
    "    else: b.text = \"Run\"\n",
    "    \n",
    "button(text=\"Pause\", pos=scene.title_anchor, bind=Run)\n",
    "\n",
    "box_object = box(visible=True)\n",
    "cone_object = cone(visible=False, radius=0.5)\n",
    "pyramid_object = pyramid(visible=False)\n",
    "cylinder_object = cylinder(visible=False, radius=0.5)\n",
    "\n",
    "col = color.cyan\n",
    "currentobject = box_object\n",
    "currentobject.color = col\n",
    "\n",
    "def Color(c):\n",
    "    global col\n",
    "    if col.equals(color.cyan): # change to red\n",
    "        currentobject.color = col = color.red\n",
    "        c.text = \"<b>Cyan</b>\"\n",
    "        c.color = color.cyan\n",
    "        c.background = color.red\n",
    "        if c.name is None: # this is the top button\n",
    "            r1.checked = False\n",
    "            r2.checked = True\n",
    "    else:                      # change to cyan\n",
    "        currentobject.color = col = color.cyan\n",
    "        c.text = \"<b>Red</b>\"\n",
    "        c.color = color.red\n",
    "        c.background = color.cyan\n",
    "        if c.name is None: # this is the top button\n",
    "            r1.checked = True\n",
    "            r2.checked = False\n",
    "        \n",
    "def cc(c):\n",
    "    global col\n",
    "    if col.equals(color.cyan): # change to red:\n",
    "        currentobject.color = col = color.red\n",
    "        cbutton.text = \"<b>Cyan</b>\"\n",
    "        cbutton.color = color.cyan\n",
    "        cbutton.background = color.red\n",
    "    else:                      # change to cyan\n",
    "        currentobject.color = col = color.cyan\n",
    "        cbutton.text = \"<b>Red</b>\"\n",
    "        cbutton.color = color.red\n",
    "        cbutton.background = color.cyan\n",
    "        \n",
    "cbutton = button(text='<b>Red</b>', color=color.red, background=color.cyan, \n",
    "            pos=scene.title_anchor, bind=Color, name=None)\n",
    "\n",
    "scene.caption = \"Vary the rotation speed: \\n\\n\"\n",
    "\n",
    "def setspeed(s):\n",
    "    wt.text = '{:1.2f}'.format(s.value)\n",
    "    \n",
    "sl = slider(min=0.3, max=3, value=1.5, length=220, bind=setspeed, right=15)\n",
    "\n",
    "wt = wtext(text='{:1.2f}'.format(sl.value))\n",
    "\n",
    "scene.append_to_caption(' radians/s\\n')\n",
    "\n",
    "r1 = radio(bind=cc, checked=True, text='Cyan', name='rads')\n",
    "\n",
    "scene.append_to_caption('       ')\n",
    "\n",
    "def M(m):\n",
    "    global col, currentobject\n",
    "    op = currentobject.opacity\n",
    "    currentaxis = currentobject.axis\n",
    "    currentobject.visible = False\n",
    "    val = m.selected\n",
    "    if val == \"box\": \n",
    "        currentobject = box_object\n",
    "    elif val == \"cone\": \n",
    "        currentobject = cone_object\n",
    "    elif val == \"pyramid\": \n",
    "        currentobject = pyramid_object\n",
    "    elif val == \"cylinder\": \n",
    "        currentobject = cylinder_object\n",
    "    currentobject.color = col\n",
    "    currentobject.axis = currentaxis\n",
    "    currentobject.visible = True\n",
    "    currentobject.opacity = op\n",
    "\n",
    "menu(choices=['Choose an object', 'box', 'cone', 'pyramid', 'cylinder'], index=0, bind=M)\n",
    "\n",
    "scene.append_to_caption('\\n')\n",
    "\n",
    "r2 = radio(bind=cc, text='Red', name='rads')\n",
    "\n",
    "scene.append_to_caption('         ')\n",
    "\n",
    "def transparency(b):\n",
    "    if b.checked:\n",
    "        currentobject.opacity = 0.5\n",
    "    else:\n",
    "        currentobject.opacity = 1\n",
    "\n",
    "checkbox(bind=transparency, text='Transparent')\n",
    "\n",
    "dt = 0.01\n",
    "while True:\n",
    "    rate(1/dt)\n",
    "    if running:\n",
    "        currentobject.rotate(angle=sl.value*dt, axis=vector(0,1,0))\n"
   ]
  },
  {
   "cell_type": "code",
   "execution_count": null,
   "metadata": {
    "collapsed": true,
    "jupyter": {
     "outputs_hidden": true
    }
   },
   "outputs": [],
   "source": []
  }
 ],
 "metadata": {
  "anaconda-cloud": {},
  "kernelspec": {
   "display_name": "VPython",
   "language": "python",
   "name": "vpython"
  },
  "language_info": {
   "codemirror_mode": {
    "name": "ipython",
    "version": 3
   },
   "file_extension": ".py",
   "mimetype": "text/x-python",
   "name": "python",
   "nbconvert_exporter": "python",
   "pygments_lexer": "ipython3",
   "version": "3.9.7"
  }
 },
 "nbformat": 4,
 "nbformat_minor": 4
}
